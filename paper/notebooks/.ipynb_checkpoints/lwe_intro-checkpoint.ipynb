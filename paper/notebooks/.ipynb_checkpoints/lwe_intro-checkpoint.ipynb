{
 "cells": [
  {
   "cell_type": "markdown",
   "id": "fefbdcd5",
   "metadata": {},
   "source": [
    "\n",
    "# P.H.A.N.T.O.M. — LWE Intro Notebook\n",
    "\n",
    "**Goal:** Walk through a minimal Learning With Errors (LWE) encryption/decryption example used in this project, combining math explanations (LaTeX) and runnable Python (your `src/toy_lwe.py`).\n",
    "\n",
    "> Tip: Run this notebook from the project root so relative imports work, or adjust `sys.path` below.\n"
   ]
  },
  {
   "cell_type": "markdown",
   "id": "b5292a38",
   "metadata": {},
   "source": [
    "\n",
    "## Background (Math, at a glance)\n",
    "\n",
    "We use a very small **toy** LWE scheme (for pedagogy, not security).\n",
    "\n",
    "Let:\n",
    "- $q$ be the modulus (prime recommended),\n",
    "- $n$ be the dimension,\n",
    "- $\\mathbf{s}\\in \\mathbb{Z}_q^n$ be the secret vector,\n",
    "- $\\mathbf{A}\\in \\mathbb{Z}_q^n$ be a public random vector,\n",
    "- $e$ be a small error/noise term (e.g., from $\\{-1,0,1\\}$),\n",
    "- $m\\in\\{0,1\\}$ be the message bit.\n",
    "\n",
    "**Encryption:**\n",
    "\\[\n",
    "b \\equiv \\langle \\mathbf{A}, \\mathbf{s} \\rangle + e + m\\cdot \\left\\lfloor \\frac{q}{2}\\right\\rfloor \\pmod{q}.\n",
    "\\]\n",
    "The ciphertext is $c=(\\mathbf{A}, b)$.\n",
    "\n",
    "**Decryption:**\n",
    "Compute\n",
    "\\[\n",
    "\\text{inner} \\equiv b - \\langle \\mathbf{A}, \\mathbf{s} \\rangle \\pmod{q}.\n",
    "\\]\n",
    "Then decide $m$ by thresholding:\n",
    "- If $\\text{inner}$ is \"close\" to $0$, output $0$,\n",
    "- If $\\text{inner}$ is \"close\" to $\\frac{q}{2}$, output $1$.\n",
    "\n",
    "In this toy version, we use the rule:\n",
    "\\[\n",
    "\\hat m =\n",
    "\\begin{cases}\n",
    "0 & \\text{if } |\\text{inner}| < \\frac{q}{4} \\\\\n",
    "1 & \\text{otherwise.}\n",
    "\\end{cases}\n",
    "\\]\n",
    "\n",
    "> **Security note:** This small-parameter demo is **not secure**. Real schemes (e.g., Kyber) use large dimensions, structured rings, and carefully chosen noise distributions.\n"
   ]
  },
  {
   "cell_type": "code",
   "execution_count": null,
   "id": "43cad1ce",
   "metadata": {},
   "outputs": [],
   "source": [
    "\n",
    "# Setup: imports and path adjustments\n",
    "import os, sys, math, random\n",
    "import numpy as np\n",
    "\n",
    "# Make sure to import from project src/ when running from repo root\n",
    "if \"src\" not in sys.path:\n",
    "    sys.path.append(\"src\")\n",
    "\n",
    "from toy_lwe import ToyLWE  \n",
    "print(\"Imported ToyLWE from src/toy_lwe.py\")\n"
   ]
  },
  {
   "cell_type": "markdown",
   "id": "8da4a5ab",
   "metadata": {},
   "source": [
    "## Quick demo: encrypt/decrypt one bit"
   ]
  },
  {
   "cell_type": "code",
   "execution_count": null,
   "id": "41ed09e3",
   "metadata": {},
   "outputs": [],
   "source": [
    "\n",
    "# Reproducibility\n",
    "np.random.seed(42)\n",
    "\n",
    "crypto = ToyLWE(n=4, q=97)\n",
    "m = 1\n",
    "ct = crypto.encrypt(m)\n",
    "dec = crypto.decrypt(ct)\n",
    "\n",
    "print(\"Message m:\", m)\n",
    "print(\"Ciphertext (A, b):\", ct)\n",
    "print(\"Decrypted:\", dec)\n",
    "assert dec in (0,1)\n"
   ]
  },
  {
   "cell_type": "markdown",
   "id": "1a1f91f7",
   "metadata": {},
   "source": [
    "## Encrypt/decrypt both bits (0 and 1)"
   ]
  },
  {
   "cell_type": "code",
   "execution_count": null,
   "id": "1ec796bf",
   "metadata": {},
   "outputs": [],
   "source": [
    "\n",
    "for bit in [0,1]:\n",
    "    ct = crypto.encrypt(bit)\n",
    "    dec = crypto.decrypt(ct)\n",
    "    print(f\"m={bit}  ->  dec={dec}  |  ct={ct}\")\n"
   ]
  },
  {
   "cell_type": "markdown",
   "id": "f031714e",
   "metadata": {},
   "source": [
    "\n",
    "## Threshold intuition\n",
    "\n",
    "We examine how the decryption rule works by inspecting `inner = (b - <A, s>) mod q`.\n",
    "\n",
    "If `inner` is near `0`, we decode `0`; if it's near `q/2`, we decode `1`.\n"
   ]
  },
  {
   "cell_type": "code",
   "execution_count": null,
   "id": "ca900ce9",
   "metadata": {},
   "outputs": [],
   "source": [
    "\n",
    "def inner_value(crypto, ct):\n",
    "    A, b = ct\n",
    "    return int((b - np.dot(A, crypto.s)) % crypto.q)\n",
    "\n",
    "# Inspect a few samples\n",
    "samples = []\n",
    "for bit in [0,1]:\n",
    "    rows = []\n",
    "    for _ in range(10):\n",
    "        ct = crypto.encrypt(bit)\n",
    "        inn = inner_value(crypto, ct)\n",
    "        rows.append((bit, inn))\n",
    "    samples.extend(rows)\n",
    "\n",
    "print(\"bit  inner\")\n",
    "for bit, inn in samples:\n",
    "    print(f\"{bit:3d}  {inn:5d}\")\n"
   ]
  },
  {
   "cell_type": "markdown",
   "id": "4f560187",
   "metadata": {},
   "source": [
    "## Monte Carlo: decryption reliability at toy parameters"
   ]
  },
  {
   "cell_type": "code",
   "execution_count": null,
   "id": "8a321f5e",
   "metadata": {},
   "outputs": [],
   "source": [
    "\n",
    "def trial_accuracy(crypto, trials=500):\n",
    "    ok = 0\n",
    "    for _ in range(trials):\n",
    "        m = np.random.randint(0,2)\n",
    "        ct = crypto.encrypt(m)\n",
    "        dec = crypto.decrypt(ct)\n",
    "        ok += int(dec == m)\n",
    "    return ok / trials\n",
    "\n",
    "acc = trial_accuracy(ToyLWE(n=4, q=97), trials=1000)\n",
    "print(f\"Toy accuracy over 1000 trials: {acc:.3f}\")\n"
   ]
  },
  {
   "cell_type": "markdown",
   "id": "e31c62eb",
   "metadata": {},
   "source": [
    "\n",
    "## (Optional) Visualize inner-term distribution\n",
    "\n",
    "This plot helps see how `inner` clusters near `0` (for `m=0`) vs near `q/2` (for `m=1`).\n"
   ]
  },
  {
   "cell_type": "code",
   "execution_count": null,
   "id": "b26c4622",
   "metadata": {},
   "outputs": [],
   "source": [
    "\n",
    "import matplotlib.pyplot as plt\n",
    "\n",
    "def sample_inners(crypto, bit, N=500):\n",
    "    xs = []\n",
    "    for _ in range(N):\n",
    "        ct = crypto.encrypt(bit)\n",
    "        xs.append(inner_value(crypto, ct))\n",
    "    return xs\n",
    "\n",
    "crypto = ToyLWE(n=4, q=97)\n",
    "xs0 = sample_inners(crypto, 0, N=500)\n",
    "xs1 = sample_inners(crypto, 1, N=500)\n",
    "\n",
    "plt.figure()\n",
    "plt.hist(xs0, bins=20, alpha=0.6, label=\"m=0\")\n",
    "plt.hist(xs1, bins=20, alpha=0.6, label=\"m=1\")\n",
    "plt.title(\"Toy LWE: inner-term distribution (q=97)\")\n",
    "plt.xlabel(\"inner value\")\n",
    "plt.ylabel(\"count\")\n",
    "plt.legend()\n",
    "plt.show()\n"
   ]
  },
  {
   "cell_type": "markdown",
   "id": "56876f1a",
   "metadata": {},
   "source": [
    "\n",
    "## Parameter sensitivity (exercise)\n",
    "\n",
    "Try changing:\n",
    "- `n` (dimension),\n",
    "- `q` (modulus),\n",
    "- the noise distribution in `ToyLWE.encrypt`.\n",
    "\n",
    "Observe effects on accuracy and speed. Document your findings here.\n"
   ]
  },
  {
   "cell_type": "markdown",
   "id": "1f3254df",
   "metadata": {},
   "source": [
    "\n",
    "## References\n",
    "- Regev, O. (2005). *On lattices, learning with errors, random linear codes, and cryptography.*\n",
    "- NIST PQC project: https://csrc.nist.gov/projects/post-quantum-cryptography\n",
    "- Kyber (CRYSTALS) spec for practical parameters and KEM structure.\n"
   ]
  }
 ],
 "metadata": {
  "language_info": {
   "name": "python"
  }
 },
 "nbformat": 4,
 "nbformat_minor": 5
}
