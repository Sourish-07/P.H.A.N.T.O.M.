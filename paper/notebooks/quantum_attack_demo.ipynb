{
 "cells": [
  {
   "cell_type": "markdown",
   "id": "04bc8dc9",
   "metadata": {},
   "source": [
    "# Quantum-Inspired Attack Demo (Toy Example)\n",
    "This notebook demonstrates toy complexity estimates for quantum algorithms vs classical brute force."
   ]
  },
  {
   "cell_type": "code",
   "execution_count": null,
   "id": "805f86e9",
   "metadata": {},
   "outputs": [],
   "source": [
    "\n",
    "import math\n",
    "\n",
    "def grover_complexity(N):\n",
    "    return math.sqrt(N)\n",
    "\n",
    "def shor_runtime(n_bits):\n",
    "    return n_bits**3\n",
    "\n",
    "print(\"Grover search over 2^128 →\", grover_complexity(2**128))\n",
    "print(\"Shor runtime for 2048-bit RSA →\", shor_runtime(2048))\n"
   ]
  },
  {
   "cell_type": "markdown",
   "id": "ef85c9d7",
   "metadata": {},
   "source": [
    "📌 Idea: Just show approximate complexity scaling vs classical brute force. Extend with charts later."
   ]
  }
 ],
 "metadata": {},
 "nbformat": 4,
 "nbformat_minor": 5
}
